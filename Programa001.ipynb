{
  "nbformat": 4,
  "nbformat_minor": 0,
  "metadata": {
    "colab": {
      "provenance": [],
      "authorship_tag": "ABX9TyMYx6xgMbf0mWi18niSl5BF",
      "include_colab_link": true
    },
    "kernelspec": {
      "name": "python3",
      "display_name": "Python 3"
    },
    "language_info": {
      "name": "python"
    }
  },
  "cells": [
    {
      "cell_type": "markdown",
      "metadata": {
        "id": "view-in-github",
        "colab_type": "text"
      },
      "source": [
        "<a href=\"https://colab.research.google.com/github/JonathansilveiraSouza/Teste-001/blob/main/Programa001.ipynb\" target=\"_parent\"><img src=\"https://colab.research.google.com/assets/colab-badge.svg\" alt=\"Open In Colab\"/></a>"
      ]
    },
    {
      "cell_type": "markdown",
      "source": [
        "\n",
        "Meu primeiro programa na aula do prof. Massaki"
      ],
      "metadata": {
        "id": "ShcTUCqCgzgN"
      }
    },
    {
      "cell_type": "code",
      "execution_count": null,
      "metadata": {
        "colab": {
          "base_uri": "https://localhost:8080/"
        },
        "id": "at6QuN3Ze1ym",
        "outputId": "2d841f01-8106-4c2f-d670-16f3a255c224"
      },
      "outputs": [
        {
          "output_type": "stream",
          "name": "stdout",
          "text": [
            "<class 'int'>\n",
            "<class 'float'>\n",
            "<class 'float'>\n",
            "5.0\n"
          ]
        }
      ],
      "source": [
        "#Comentario Python\n",
        "a = 2\n",
        "print(type(a))\n",
        "b = 3.0\n",
        "print(type(b))\n",
        "soma = a+b\n",
        "print(type(soma))\n",
        "print(soma)"
      ]
    },
    {
      "cell_type": "markdown",
      "source": [
        "  Importancia dos tipos de dados"
      ],
      "metadata": {
        "id": "X7yp4IJLgozt"
      }
    },
    {
      "cell_type": "code",
      "source": [
        "num = int(input(\"Digite um numero inteiro: \"))\n",
        "print(type(num))\n",
        "quoc = num//2\n",
        "resto = num%2\n",
        "print(\"Quociente =\", quoc)\n",
        "print(\"Resto = \",resto)"
      ],
      "metadata": {
        "colab": {
          "base_uri": "https://localhost:8080/"
        },
        "id": "jUhcnP1ggvoV",
        "outputId": "632c03cd-e6cd-4cf5-a3f6-7727910fbb15"
      },
      "execution_count": null,
      "outputs": [
        {
          "output_type": "stream",
          "name": "stdout",
          "text": [
            "Digite um numero inteiro: 4\n",
            "<class 'int'>\n",
            "Quociente = 2\n",
            "Resto =  0\n"
          ]
        }
      ]
    },
    {
      "cell_type": "code",
      "source": [
        "#Calculo da media de dois valores\n",
        "v1 = float(input(\"Digite o primeiro valor:\"))\n",
        "v2 = float(input(\"Digite o segundo valor:\"))\n",
        "Media = (v1+v2)/2\n",
        "print(\"Media do aluno é:\", Media)\n",
        "\n"
      ],
      "metadata": {
        "colab": {
          "base_uri": "https://localhost:8080/"
        },
        "id": "7vVda9rti2m5",
        "outputId": "276d8f08-bdd0-4d0f-f115-d0240bc3484e"
      },
      "execution_count": null,
      "outputs": [
        {
          "output_type": "stream",
          "name": "stdout",
          "text": [
            "Digite o primeiro valor:10\n",
            "Digite o segundo valor:8\n",
            "Media do aluno é: 9.0\n"
          ]
        }
      ]
    },
    {
      "cell_type": "code",
      "source": [
        "#Calculo de Area Triangulo\n",
        "b = float(input(\"Digite o primeiro valor:\"))\n",
        "h = float(input(\"Digite o segundo valor:\"))\n",
        "area = (b*h)/2\n",
        "print(\"Area do triangulo é:\", area)"
      ],
      "metadata": {
        "colab": {
          "base_uri": "https://localhost:8080/"
        },
        "id": "zrV9TDJElxbM",
        "outputId": "92ab4c85-196c-4c1b-89d3-9fba5da30c56"
      },
      "execution_count": null,
      "outputs": [
        {
          "output_type": "stream",
          "name": "stdout",
          "text": [
            "Digite o primeiro valor:2\n",
            "Digite o segundo valor:2\n",
            "Area do triangulo é: 2.0\n"
          ]
        }
      ]
    },
    {
      "cell_type": "markdown",
      "source": [
        "#Conversão de polegadas para milimetros"
      ],
      "metadata": {
        "id": "mi445U-dZxzZ"
      }
    },
    {
      "cell_type": "code",
      "source": [
        "#Conversão polegadas para milímetros\n",
        "#Solicitar ao usuario que insira uma medida em polegadas\n",
        "polegada= float(input(\"Digite a medida em polegadas:\"))\n",
        "#Converta a medida milímetros (1 polegada = 25.4 mm)\n",
        "milímetros = polegada * 25.4\n",
        "#exibir resultado\n",
        "print(f\"{polegada} polegadas é igual a {milímetros: .2f} milímetros.\")\n"
      ],
      "metadata": {
        "colab": {
          "base_uri": "https://localhost:8080/"
        },
        "id": "1XUKHPvjZ9yR",
        "outputId": "1334195e-19f1-4986-f89b-f3f0c524caf5"
      },
      "execution_count": 22,
      "outputs": [
        {
          "output_type": "stream",
          "name": "stdout",
          "text": [
            "Digite a medida em polegadas:1\n",
            "1.0 polegadas é igual a  25.40 milímetros.\n"
          ]
        }
      ]
    },
    {
      "cell_type": "markdown",
      "source": [
        "#Calcular valor raio de uma esfera e exibir volume da esfera\n",
        "NARRATIVA:\n",
        "Adicionar PI= 3.1415926\n",
        "Ler r raio\n",
        "fazer calculo de volume = (4/3) ⋅ π / (r*r*r)\n",
        "exibir r\n",
        "PSEUDOCODIGO:\n",
        "Real: r, v\n",
        "Real PI = 3.14159265358979323846\n",
        "Ler r\n",
        "Calcular v = (4/3.0)*PI/(r*r*r)\n",
        "exibir v"
      ],
      "metadata": {
        "id": "LCVTdNVniqzK"
      }
    },
    {
      "cell_type": "code",
      "source": [
        "#Solicitar ao usuario para buscar valor PI Ler raio e fazer calculo de volume\n",
        "import math\n",
        "math. pi\n",
        "raio = float(input(\"Digite o valor do raio:\"))\n",
        "#Converta raio para volume 4 ⋅ π * (r**3)/3\n",
        "volume = ((4 * math. pi * raio**3)/3)\n",
        "#exibir resultado\n",
        "print(f\"{raio} raio é igual a {volume: .2f} volume.\")\n"
      ],
      "metadata": {
        "colab": {
          "base_uri": "https://localhost:8080/"
        },
        "id": "ByjLVnXil0Of",
        "outputId": "fa1f1b64-9a15-477d-831e-05d9374e3ac0"
      },
      "execution_count": 31,
      "outputs": [
        {
          "output_type": "stream",
          "name": "stdout",
          "text": [
            "Digite o valor do raio:90\n",
            "90.0 raio é igual a  3053628.06 volume.\n"
          ]
        }
      ]
    }
  ]
}