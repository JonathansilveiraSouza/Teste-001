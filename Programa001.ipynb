{
  "nbformat": 4,
  "nbformat_minor": 0,
  "metadata": {
    "colab": {
      "provenance": [],
      "authorship_tag": "ABX9TyPfaSv5Oo8bivQHrpHGPE04",
      "include_colab_link": true
    },
    "kernelspec": {
      "name": "python3",
      "display_name": "Python 3"
    },
    "language_info": {
      "name": "python"
    }
  },
  "cells": [
    {
      "cell_type": "markdown",
      "metadata": {
        "id": "view-in-github",
        "colab_type": "text"
      },
      "source": [
        "<a href=\"https://colab.research.google.com/github/JonathansilveiraSouza/Teste-001/blob/main/Programa001.ipynb\" target=\"_parent\"><img src=\"https://colab.research.google.com/assets/colab-badge.svg\" alt=\"Open In Colab\"/></a>"
      ]
    },
    {
      "cell_type": "code",
      "execution_count": null,
      "metadata": {
        "id": "at6QuN3Ze1ym"
      },
      "outputs": [],
      "source": [
        "#Comentario Python\n",
        "a = 2\n",
        "b = 3\n",
        "soma = a+b\n",
        "print(soma)"
      ]
    },
    {
      "cell_type": "markdown",
      "source": [
        "Meu primeiro programa na aula do prof. Massaki"
      ],
      "metadata": {
        "id": "M2NWruupe72y"
      }
    }
  ]
}