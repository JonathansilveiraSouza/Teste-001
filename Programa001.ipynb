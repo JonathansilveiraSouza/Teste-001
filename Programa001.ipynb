{
  "nbformat": 4,
  "nbformat_minor": 0,
  "metadata": {
    "colab": {
      "provenance": [],
      "authorship_tag": "ABX9TyMWFL7s+GKjzvEeA8OPpOg7",
      "include_colab_link": true
    },
    "kernelspec": {
      "name": "python3",
      "display_name": "Python 3"
    },
    "language_info": {
      "name": "python"
    }
  },
  "cells": [
    {
      "cell_type": "markdown",
      "metadata": {
        "id": "view-in-github",
        "colab_type": "text"
      },
      "source": [
        "<a href=\"https://colab.research.google.com/github/JonathansilveiraSouza/Teste-001/blob/main/Programa001.ipynb\" target=\"_parent\"><img src=\"https://colab.research.google.com/assets/colab-badge.svg\" alt=\"Open In Colab\"/></a>"
      ]
    },
    {
      "cell_type": "markdown",
      "source": [
        "\n",
        "Meu primeiro programa na aula do prof. Massaki"
      ],
      "metadata": {
        "id": "ShcTUCqCgzgN"
      }
    },
    {
      "cell_type": "code",
      "execution_count": 5,
      "metadata": {
        "colab": {
          "base_uri": "https://localhost:8080/"
        },
        "id": "at6QuN3Ze1ym",
        "outputId": "2d841f01-8106-4c2f-d670-16f3a255c224"
      },
      "outputs": [
        {
          "output_type": "stream",
          "name": "stdout",
          "text": [
            "<class 'int'>\n",
            "<class 'float'>\n",
            "<class 'float'>\n",
            "5.0\n"
          ]
        }
      ],
      "source": [
        "#Comentario Python\n",
        "a = 2\n",
        "print(type(a))\n",
        "b = 3.0\n",
        "print(type(b))\n",
        "soma = a+b\n",
        "print(type(soma))\n",
        "print(soma)"
      ]
    },
    {
      "cell_type": "markdown",
      "source": [
        "  Importancia dos tipos de dados"
      ],
      "metadata": {
        "id": "X7yp4IJLgozt"
      }
    },
    {
      "cell_type": "code",
      "source": [
        "num = int(input(\"Digite um numero inteiro: \"))\n",
        "print(type(num))\n",
        "quoc = num//2\n",
        "resto = num%2\n",
        "print(\"Quociente =\", quoc)\n",
        "print(\"Resto = \",resto)"
      ],
      "metadata": {
        "colab": {
          "base_uri": "https://localhost:8080/"
        },
        "id": "jUhcnP1ggvoV",
        "outputId": "632c03cd-e6cd-4cf5-a3f6-7727910fbb15"
      },
      "execution_count": 11,
      "outputs": [
        {
          "output_type": "stream",
          "name": "stdout",
          "text": [
            "Digite um numero inteiro: 4\n",
            "<class 'int'>\n",
            "Quociente = 2\n",
            "Resto =  0\n"
          ]
        }
      ]
    },
    {
      "cell_type": "code",
      "source": [
        "#Calculo da media de dois valores\n",
        "v1 = float(input(\"Digite o primeiro valor:\"))\n",
        "v2 = float(input(\"Digite o segundo valor:\"))\n",
        "Media = (v1+v2)/2\n",
        "print(\"Media do aluno é:\", Media)\n",
        "\n"
      ],
      "metadata": {
        "colab": {
          "base_uri": "https://localhost:8080/"
        },
        "id": "7vVda9rti2m5",
        "outputId": "276d8f08-bdd0-4d0f-f115-d0240bc3484e"
      },
      "execution_count": 20,
      "outputs": [
        {
          "output_type": "stream",
          "name": "stdout",
          "text": [
            "Digite o primeiro valor:10\n",
            "Digite o segundo valor:8\n",
            "Media do aluno é: 9.0\n"
          ]
        }
      ]
    },
    {
      "cell_type": "code",
      "source": [
        "#Calculo de Area Triangulo\n",
        "b = float(input(\"Digite o primeiro valor:\"))\n",
        "h = float(input(\"Digite o segundo valor:\"))\n",
        "area = (b*h)/2\n",
        "print(\"Area do triangulo é:\", area)"
      ],
      "metadata": {
        "colab": {
          "base_uri": "https://localhost:8080/"
        },
        "id": "zrV9TDJElxbM",
        "outputId": "3c76d435-d15c-4cac-900a-04a7c89b86b5"
      },
      "execution_count": 21,
      "outputs": [
        {
          "output_type": "stream",
          "name": "stdout",
          "text": [
            "Digite o primeiro valor:2\n",
            "Digite o segundo valor:4\n",
            "Area do triangulo é: 4.0\n"
          ]
        }
      ]
    }
  ]
}