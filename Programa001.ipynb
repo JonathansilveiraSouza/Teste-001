{
  "nbformat": 4,
  "nbformat_minor": 0,
  "metadata": {
    "colab": {
      "provenance": [],
      "authorship_tag": "ABX9TyOVB6DhmQhEgVzZbc5R6bRu",
      "include_colab_link": true
    },
    "kernelspec": {
      "name": "python3",
      "display_name": "Python 3"
    },
    "language_info": {
      "name": "python"
    }
  },
  "cells": [
    {
      "cell_type": "markdown",
      "metadata": {
        "id": "view-in-github",
        "colab_type": "text"
      },
      "source": [
        "<a href=\"https://colab.research.google.com/github/JonathansilveiraSouza/Teste-001/blob/main/Programa001.ipynb\" target=\"_parent\"><img src=\"https://colab.research.google.com/assets/colab-badge.svg\" alt=\"Open In Colab\"/></a>"
      ]
    },
    {
      "cell_type": "markdown",
      "source": [
        "\n",
        "Meu primeiro programa na aula do prof. Massaki"
      ],
      "metadata": {
        "id": "ShcTUCqCgzgN"
      }
    },
    {
      "cell_type": "code",
      "execution_count": null,
      "metadata": {
        "colab": {
          "base_uri": "https://localhost:8080/"
        },
        "id": "at6QuN3Ze1ym",
        "outputId": "2d841f01-8106-4c2f-d670-16f3a255c224"
      },
      "outputs": [
        {
          "output_type": "stream",
          "name": "stdout",
          "text": [
            "<class 'int'>\n",
            "<class 'float'>\n",
            "<class 'float'>\n",
            "5.0\n"
          ]
        }
      ],
      "source": [
        "#Comentario Python\n",
        "a = 2\n",
        "print(type(a))\n",
        "b = 3.0\n",
        "print(type(b))\n",
        "soma = a+b\n",
        "print(type(soma))\n",
        "print(soma)"
      ]
    },
    {
      "cell_type": "markdown",
      "source": [
        "  Importancia dos tipos de dados"
      ],
      "metadata": {
        "id": "X7yp4IJLgozt"
      }
    },
    {
      "cell_type": "code",
      "source": [
        "num = int(input(\"Digite um numero inteiro: \"))\n",
        "print(type(num))\n",
        "quoc = num//2\n",
        "resto = num%2\n",
        "print(\"Quociente =\", quoc)\n",
        "print(\"Resto = \",resto)"
      ],
      "metadata": {
        "colab": {
          "base_uri": "https://localhost:8080/"
        },
        "id": "jUhcnP1ggvoV",
        "outputId": "632c03cd-e6cd-4cf5-a3f6-7727910fbb15"
      },
      "execution_count": null,
      "outputs": [
        {
          "output_type": "stream",
          "name": "stdout",
          "text": [
            "Digite um numero inteiro: 4\n",
            "<class 'int'>\n",
            "Quociente = 2\n",
            "Resto =  0\n"
          ]
        }
      ]
    },
    {
      "cell_type": "code",
      "source": [
        "#Calculo da media de dois valores\n",
        "v1 = float(input(\"Digite o primeiro valor:\"))\n",
        "v2 = float(input(\"Digite o segundo valor:\"))\n",
        "Media = (v1+v2)/2\n",
        "print(\"Media do aluno é:\", Media)\n",
        "\n"
      ],
      "metadata": {
        "colab": {
          "base_uri": "https://localhost:8080/"
        },
        "id": "7vVda9rti2m5",
        "outputId": "276d8f08-bdd0-4d0f-f115-d0240bc3484e"
      },
      "execution_count": null,
      "outputs": [
        {
          "output_type": "stream",
          "name": "stdout",
          "text": [
            "Digite o primeiro valor:10\n",
            "Digite o segundo valor:8\n",
            "Media do aluno é: 9.0\n"
          ]
        }
      ]
    },
    {
      "cell_type": "code",
      "source": [
        "#Calculo de Area Triangulo\n",
        "b = float(input(\"Digite o primeiro valor:\"))\n",
        "h = float(input(\"Digite o segundo valor:\"))\n",
        "area = (b*h)/2\n",
        "print(\"Area do triangulo é:\", area)"
      ],
      "metadata": {
        "colab": {
          "base_uri": "https://localhost:8080/"
        },
        "id": "zrV9TDJElxbM",
        "outputId": "92ab4c85-196c-4c1b-89d3-9fba5da30c56"
      },
      "execution_count": null,
      "outputs": [
        {
          "output_type": "stream",
          "name": "stdout",
          "text": [
            "Digite o primeiro valor:2\n",
            "Digite o segundo valor:2\n",
            "Area do triangulo é: 2.0\n"
          ]
        }
      ]
    },
    {
      "cell_type": "markdown",
      "source": [
        "#Conversão de polegadas para milimetros"
      ],
      "metadata": {
        "id": "mi445U-dZxzZ"
      }
    },
    {
      "cell_type": "code",
      "source": [
        "#Conversão polegadas para milímetros\n",
        "#Solicitar ao usuario que insira uma medida em polegadas\n",
        "polegada= float(input(\"Digite a medida em polegadas:\"))\n",
        "#Converta a medida milímetros (1 polegada = 25.4 mm)\n",
        "milímetros = polegada * 25.4\n",
        "#exibir resultado\n",
        "print(f\"{polegada} polegadas é igual a {milímetros: .2f} milímetros.\")\n"
      ],
      "metadata": {
        "colab": {
          "base_uri": "https://localhost:8080/"
        },
        "id": "1XUKHPvjZ9yR",
        "outputId": "1334195e-19f1-4986-f89b-f3f0c524caf5"
      },
      "execution_count": null,
      "outputs": [
        {
          "output_type": "stream",
          "name": "stdout",
          "text": [
            "Digite a medida em polegadas:1\n",
            "1.0 polegadas é igual a  25.40 milímetros.\n"
          ]
        }
      ]
    },
    {
      "cell_type": "markdown",
      "source": [
        "#Calcular valor raio de uma esfera e exibir volume da esfera\n",
        "NARRATIVA:\n",
        "Adicionar PI= 3.1415926\n",
        "Ler r raio\n",
        "fazer calculo de volume = (4/3) ⋅ π / (r*r*r)\n",
        "exibir r\n",
        "PSEUDOCODIGO:\n",
        "Real: r, v\n",
        "Real PI = 3.14159265358979323846\n",
        "Ler r\n",
        "Calcular v = (4/3.0)*PI/(r*r*r)\n",
        "exibir v"
      ],
      "metadata": {
        "id": "LCVTdNVniqzK"
      }
    },
    {
      "cell_type": "code",
      "source": [
        "#Solicitar ao usuario para buscar valor PI Ler raio e fazer calculo de volume\n",
        "import math\n",
        "math. pi\n",
        "raio = float(input(\"Digite o valor do raio:\"))\n",
        "#Converta raio para volume 4 ⋅ π * (r**3)/3\n",
        "volume = ((4 * math. pi * raio**3)/3)\n",
        "#exibir resultado\n",
        "print(f\"{raio} raio é igual a {volume: .2f} volume.\")\n"
      ],
      "metadata": {
        "colab": {
          "base_uri": "https://localhost:8080/"
        },
        "id": "ByjLVnXil0Of",
        "outputId": "fa1f1b64-9a15-477d-831e-05d9374e3ac0"
      },
      "execution_count": null,
      "outputs": [
        {
          "output_type": "stream",
          "name": "stdout",
          "text": [
            "Digite o valor do raio:90\n",
            "90.0 raio é igual a  3053628.06 volume.\n"
          ]
        }
      ]
    },
    {
      "cell_type": "markdown",
      "source": [
        "#Numero par ou impar"
      ],
      "metadata": {
        "id": "D2YqDG8wedtk"
      }
    },
    {
      "cell_type": "code",
      "source": [
        "#Numero par ou ímpar\n",
        "#solicitar ao usuario que insira um numero\n",
        "numero = int(input(\"digite um numero inteiro: \"))\n",
        "#verificar se o numero é par ou ímpar\n",
        "if numero % 2 == 0:\n",
        "    print(f\"O numero {numero} é par.\")\n",
        "else:\n",
        "    print(f\"O numero {numero} é ímpar.\")\n"
      ],
      "metadata": {
        "colab": {
          "base_uri": "https://localhost:8080/"
        },
        "id": "yopCUD_ueoA9",
        "outputId": "4a91c9da-1912-4c3a-b72b-f316737663f1"
      },
      "execution_count": null,
      "outputs": [
        {
          "output_type": "stream",
          "name": "stdout",
          "text": [
            "digite um numero inteiro: 56\n",
            "O numero 56 é par.\n"
          ]
        }
      ]
    },
    {
      "cell_type": "markdown",
      "source": [
        "Calcular raiz quadrada para valores Maiores ou iguais a zero"
      ],
      "metadata": {
        "id": "GUhxDGEAhrZa"
      }
    },
    {
      "cell_type": "code",
      "source": [
        "#Calcular raiz quadrada para valores Maiores ou iguais a zero\n",
        "\n",
        "import math\n",
        "\n",
        "#solicitar ao usuario que insira um número\n",
        "numero = float(input(\"digite um número: \"))\n",
        "\n",
        "#verificar se número é maior ou igual a zero\n",
        "if numero >= 0:\n",
        "  raiz_quadrada = math.sqrt(numero)\n",
        "  print(f\"A raiz quadrada de {numero} é {raiz_quadrada:.2f}.\")\n",
        "else:\n",
        "   print(\"Não existe raiz real para este número!\")\n"
      ],
      "metadata": {
        "id": "lHVhVYFvhz07",
        "outputId": "7aa2d34c-36eb-49b6-ab97-19457c1733b6",
        "colab": {
          "base_uri": "https://localhost:8080/"
        }
      },
      "execution_count": null,
      "outputs": [
        {
          "output_type": "stream",
          "name": "stdout",
          "text": [
            "digite um número: 25\n",
            "A raiz quadrada de 25.0 é 5.00.\n"
          ]
        }
      ]
    },
    {
      "cell_type": "markdown",
      "source": [
        "#Comprimento e largura das roupas\n",
        "\n",
        "\n"
      ],
      "metadata": {
        "id": "ilhfXKxMoVuo"
      }
    },
    {
      "cell_type": "code",
      "source": [
        "#Solicite ao usuario que insira o comprimento e a largura da camisa\n",
        "\n",
        "comprimento = float(input(\"Digite o comprimento da camiseta em centimentros: \"))\n",
        "largura = float(input(\"Digite a largura da camiseta em centimentros: \"))\n",
        "\n",
        "#determine o tamanho da camiseta com base no comprimento e largura\n",
        "if comprimento <= 60 and largura <= 45:\n",
        "    tamanho = \"PP\"\n",
        "elif comprimento <= 65 and largura <= 48:\n",
        "    tamanho = \"P\"\n",
        "elif comprimento <= 70 and largura <= 51:\n",
        "    tamanho = \"M\"\n",
        "elif comprimento <= 75 and largura <= 54:\n",
        "    tamanho = \"G\"\n",
        "elif comprimento <= 80 and largura <= 57:\n",
        "    tamanho = \"GG\"\n",
        "else:\n",
        "    tamanho = \"xgg\"\n",
        "\n",
        "# Exibe o tamanho da camiseta\n",
        "print(f\"o tamanho da camiseta é {tamanho}.\")\n"
      ],
      "metadata": {
        "id": "HwcliWsvovaz",
        "outputId": "9c822d58-3f43-416f-86eb-b3185fad1145",
        "colab": {
          "base_uri": "https://localhost:8080/"
        }
      },
      "execution_count": null,
      "outputs": [
        {
          "output_type": "stream",
          "name": "stdout",
          "text": [
            "Digite o comprimento da camiseta em centimentros: 70\n",
            "Digite a largura da camiseta em centimentros: 51\n",
            "o tamanho da camiseta é M.\n"
          ]
        }
      ]
    },
    {
      "cell_type": "markdown",
      "source": [
        "#Solicitar ao usuario valor inteiro e em seguida se o valor é multiplo de 3 ou não.\n"
      ],
      "metadata": {
        "id": "f13A7lOlfVG9"
      }
    },
    {
      "cell_type": "code",
      "source": [
        "#Solicitar ao usuario valor inteiro e em seguida se o valor é multiplo de 3 ou não.\n",
        "numerointeiro = float(input(\"Digite um numero inteiro:\"))\n",
        "#Verificar se numero é multiplo de 3 ou não\n",
        "if numerointeiro % 3 == 0:\n",
        "    print(\"o numero é multiplo.\")\n",
        "else:\n",
        "    print(\"o numero nao é multiplo de 3.\")\n",
        "\n",
        "\n"
      ],
      "metadata": {
        "id": "WL06UHXUfyog",
        "outputId": "eb8de2ce-c797-4074-b100-11f10b42aa86",
        "colab": {
          "base_uri": "https://localhost:8080/"
        }
      },
      "execution_count": 16,
      "outputs": [
        {
          "output_type": "stream",
          "name": "stdout",
          "text": [
            "Digite um numero inteiro:34\n",
            "o numero nao é multiplo de 3.\n"
          ]
        }
      ]
    },
    {
      "cell_type": "markdown",
      "source": [
        "#Calcular media ponderada do Aluno"
      ],
      "metadata": {
        "id": "D2kmz6ZbkOnr"
      }
    },
    {
      "cell_type": "code",
      "source": [
        "#Calcular media ponderada do Aluno\n",
        "nota1 = float(input(\"Digite nota1:\"))\n",
        "nota2 = float(input(\"Digite nota2:\"))\n",
        "\n",
        "media = nota1*2+nota2*3/5\n",
        "if media >= 5:\n",
        "   print(\"media >=5, aprovado, parabéns\")\n",
        "else:\n",
        "   print(\"media <=5, reprovado, se fodeu!!!\")\n"
      ],
      "metadata": {
        "id": "l8iZJchLkclj",
        "outputId": "99a9aa1e-c67a-487c-a603-97dc8c79f28a",
        "colab": {
          "base_uri": "https://localhost:8080/"
        }
      },
      "execution_count": 23,
      "outputs": [
        {
          "output_type": "stream",
          "name": "stdout",
          "text": [
            "Digite nota1:5.5\n",
            "Digite nota2:6.6\n",
            "media >=5, aprovado, parabéns\n"
          ]
        }
      ]
    },
    {
      "cell_type": "markdown",
      "source": [
        "EXTRA *03* comparando numeros"
      ],
      "metadata": {
        "id": "qAtAhY35qg2C"
      }
    },
    {
      "cell_type": "markdown",
      "source": [
        "Leia os três valores: a, b e c.\n",
        "Compare os valores:\n",
        "Se a é menor ou igual a b e a é menor ou igual a c, então\n",
        "a é o menor valor.\n",
        "Caso contrário, se b é menor ou igual a a e b é menor ou igual a c, então\n",
        "b é o menor valor.\n",
        "Caso contrário,\n",
        "c é o menor valor.\n",
        "Exiba o menor valor.\n",
        "Fim\n"
      ],
      "metadata": {
        "id": "CbD8UVCLqmCC"
      }
    },
    {
      "cell_type": "code",
      "source": [
        "#inicio\n",
        "\n",
        "a = float(input(\"Digite a: \"))\n",
        "b = float(input(\"Digite b: \"))\n",
        "c = float(input(\"Digite c: \"))\n",
        "if a<=b and a<=c:\n",
        "  Menorvalor=a\n",
        "elif b<=a and b<=c:\n",
        "  Menorvalor=b\n",
        "else:\n",
        " c<=a and c<=b\n",
        " Menorvalor=c\n",
        "\n",
        "print(f\"o menor valor é {Menorvalor}\")"
      ],
      "metadata": {
        "id": "tpnSzbPwqydj",
        "outputId": "76e339a3-f90f-4ab5-b9e3-869728aad0a4",
        "colab": {
          "base_uri": "https://localhost:8080/"
        }
      },
      "execution_count": 30,
      "outputs": [
        {
          "output_type": "stream",
          "name": "stdout",
          "text": [
            "Digite a: 5\n",
            "Digite b: 3\n",
            "Digite c: 2\n",
            "o menor valor é 2.0\n"
          ]
        }
      ]
    }
  ]
}